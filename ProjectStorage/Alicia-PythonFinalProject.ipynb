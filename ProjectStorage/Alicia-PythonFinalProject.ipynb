{
 "cells": [
  {
   "cell_type": "code",
   "execution_count": 82,
   "id": "66b5b657",
   "metadata": {},
   "outputs": [],
   "source": [
    "import threading\n",
    "import time"
   ]
  },
  {
   "cell_type": "code",
   "execution_count": 83,
   "id": "e3ec0305",
   "metadata": {},
   "outputs": [],
   "source": [
    "#Install these libs if you don't have one\n",
    "# pip install PySimpleGUI\n",
    "# pip install tkhtmlview"
   ]
  },
  {
   "cell_type": "code",
   "execution_count": 95,
   "id": "9f7ec2cd",
   "metadata": {},
   "outputs": [],
   "source": [
    "import PySimpleGUI as sg\n",
    "from tkhtmlview import html_parser\n",
    "import numpy as np\n",
    "import webbrowser"
   ]
  },
  {
   "cell_type": "code",
   "execution_count": 96,
   "id": "fcf4640e",
   "metadata": {},
   "outputs": [],
   "source": [
    "html_parser = html_parser.HTMLTextParser()\n",
    "count_thereshold = 60\n"
   ]
  },
  {
   "cell_type": "code",
   "execution_count": 97,
   "id": "2b7d5210",
   "metadata": {},
   "outputs": [],
   "source": [
    "def open_site(link_address):\n",
    "    file = webbrowser.open(link_address)\n",
    "    print('You entered ', link_address)\n"
   ]
  },
  {
   "cell_type": "code",
   "execution_count": 98,
   "id": "5c9db202",
   "metadata": {},
   "outputs": [],
   "source": [
    "def SetWidget(wid, htmltxt):\n",
    "    set_html(wid, htmltxt)\n",
    "    width1, height1 = wid.winfo_width(), wid.winfo_height()"
   ]
  },
  {
   "cell_type": "code",
   "execution_count": 99,
   "id": "553418ed",
   "metadata": {},
   "outputs": [],
   "source": [
    "exitFlag = 0\n",
    "\n",
    "def countdown(threadName, link_address, wid,whichChanel ):\n",
    "    start_time = time.time()\n",
    "    counter = 0\n",
    "    t = count_thereshold\n",
    "    \n",
    "    while t > 0 :\n",
    "        if whichChanel == \"Chanel #1\" and isWeb1Occupied == False:\n",
    "            break\n",
    "        elif whichChanel == \"Chanel #2\" and isWeb2Occupied == False:\n",
    "            break\n",
    "            \n",
    "        t -= 1\n",
    "        html = f\"\"\"\n",
    "<div class=\"infobox-caption\" style=\"text-align:center\">{whichChanel} displays <br>{link_address}</div>\n",
    "<div class=\"infobox-caption\" style=\"text-align:center\">Wait for <br> {t} </br>seconds</div>\n",
    "\"\"\"\n",
    "        SetWidget(wid, html)\n",
    "        time.sleep(1)\n",
    "        \n",
    "        if isWeb1Occupied == False:\n",
    "            return\n",
    "        elif t <= 0:\n",
    "            t = count_thereshold\n",
    "    \n",
    "    print(f\"time: {t}: {time.time()-start_time} and counter: {counter}\");\n",
    "    \n",
    "    print(f\"{link_address} is out of time. Now reloading...\\n\")\n",
    "    # we can also use count_thread.is_alive()"
   ]
  },
  {
   "cell_type": "code",
   "execution_count": 100,
   "id": "dd554253",
   "metadata": {},
   "outputs": [],
   "source": [
    "def set_html(widget, html, strip=True):\n",
    "    prev_state = widget.cget('state')\n",
    "    widget.config(state=sg.tk.NORMAL)\n",
    "    widget.delete('1.0', sg.tk.END)\n",
    "    widget.tag_delete(widget.tag_names)\n",
    "    html_parser.w_set_html(widget, html, strip=strip)\n",
    "    widget.config(state=prev_state)"
   ]
  },
  {
   "cell_type": "code",
   "execution_count": 101,
   "id": "d5992fff",
   "metadata": {},
   "outputs": [],
   "source": [
    "class WebThread (threading.Thread):\n",
    "    def __init__(self, url, wid, chanelStr, chanelID):\n",
    "        threading.Thread.__init__(self)\n",
    "        self.url = url\n",
    "        self.wid = wid\n",
    "        self.chanelID = chanelID\n",
    "        self.name = chanelStr\n",
    "        self.terminate = False\n",
    "        self.html = f\"\"\"\n",
    "<div class=\"infobox-caption\" style=\"text-align:center\">{self.name} displays <br>{self.url}</div>\n",
    "\"\"\"\n",
    "        SetWidget(self.wid, self.url)\n",
    "        \n",
    "    def run(self): # call when created\n",
    "        print (\"Starting \" + self.name + \"\\n\")\n",
    "        print(f\"{self.chanelID-1}\")\n",
    "        open_site(self.url)\n",
    "        countdown(self, self.url, self.wid, self.name) #\n",
    "        print(\"Exiting \" + self.name + \"\\n\")    \n",
    "    \n"
   ]
  },
  {
   "cell_type": "code",
   "execution_count": 102,
   "id": "7d2720fc",
   "metadata": {},
   "outputs": [],
   "source": [
    "isWeb1Occupied = False\n",
    "isWeb2Occupied = False"
   ]
  },
  {
   "cell_type": "code",
   "execution_count": 103,
   "id": "f298a259",
   "metadata": {},
   "outputs": [],
   "source": [
    "def alicia_project():\n",
    "    global isWeb1Occupied\n",
    "    isWeb1Occupied = False\n",
    "    global isWeb2Occupied\n",
    "    isWeb2Occupied = False\n",
    "    url = \"www.default.com\"\n",
    "    \n",
    "    \n",
    "    layout_web1 = [\n",
    "        [sg.Multiline(\n",
    "        size=(15, 10),\n",
    "        border_width=2,\n",
    "        text_color='blue',\n",
    "        background_color='white',\n",
    "        disabled=True,\n",
    "        no_scrollbar=True,\n",
    "        expand_x=True,\n",
    "        expand_y=True,\n",
    "        key='Web1')], ]\n",
    "    \n",
    "    layout_web2 = [\n",
    "        [sg.Multiline(\n",
    "        size=(15, 10),\n",
    "        border_width=2,\n",
    "        text_color='blue',\n",
    "        background_color='white',\n",
    "        disabled=True,\n",
    "        no_scrollbar=True,\n",
    "        expand_x=True,\n",
    "        expand_y=True,\n",
    "        key='Web2')], ]\n",
    "    \n",
    "    layout = [[sg.Text(\"Put some URL here:\")],\n",
    "            [sg.InputText(key=\"-URL-\")],\n",
    "            [sg.Frame(\"Web1\",  layout_web1, expand_x=True, expand_y=True)],\n",
    "            [sg.Frame(\"Web2\",  layout_web2, expand_x=True, expand_y=True)],\n",
    "            [sg.Button('Display'), sg.Exit()]]\n",
    "    \n",
    "\n",
    "    def Exit():\n",
    "        exitFlag = 1\n",
    "        if thread1.is_alive() and thread2.is_alive():\n",
    "            thread1.join()\n",
    "            thread2.join()\n",
    "        window.close()\n",
    "        return\n",
    "\n",
    "    # Create the window\n",
    "    window = sg.Window(\"Concurrent Project\", layout, finalize=True, use_default_focus=False)\n",
    "    \n",
    "\n",
    "    \n",
    "    # Create an event loop\n",
    "    while True:\n",
    "        event, values = window.read()\n",
    "        if event in (sg.WIN_CLOSED, 'Exit') or event == sg.WIN_CLOSED:\n",
    "            break\n",
    "        elif event == \"Display\":\n",
    "            \n",
    "            url = values[\"-URL-\"]\n",
    "            if isWeb1Occupied == True and  isWeb2Occupied == True:\n",
    "                thread1.terminate = True\n",
    "                thread2.terminate = True\n",
    "                isWeb1Occupied = False\n",
    "                isWeb2Occupied = False\n",
    "                time.sleep(2)\n",
    "                print(\"Web1 and Web2 were full. Now we reset.\")\n",
    "#                 Exit()\n",
    "#            we have to remove thread also\n",
    "            if isWeb1Occupied:\n",
    "                thread2 = WebThread(url, window['Web2'].Widget, \"Chanel #2\",2)\n",
    "                thread2.start()\n",
    "                \n",
    "                isWeb2Occupied = True\n",
    "            else:\n",
    "                thread1 = WebThread(url, window['Web1'].Widget, \"Chanel #1\",1)\n",
    "                thread1.start()\n",
    "                isWeb1Occupied = True\n",
    "    Exit()\n"
   ]
  },
  {
   "cell_type": "code",
   "execution_count": 104,
   "id": "b559084c",
   "metadata": {},
   "outputs": [
    {
     "name": "stdout",
     "output_type": "stream",
     "text": [
      "Starting Chanel #1\n",
      "\n",
      "0\n",
      "You entered  sanook.com\n",
      "Starting Chanel #2\n",
      "\n",
      "1\n",
      "You entered  finland.com\n",
      "Exiting Chanel #2\n",
      "\n",
      "Exiting Chanel #1\n",
      "\n",
      "Web1 and Web2 were full. Now we reset.\n",
      "Starting Chanel #1\n",
      "\n",
      "0\n",
      "You entered  facebook.com\n",
      "Exiting Program\n"
     ]
    },
    {
     "name": "stderr",
     "output_type": "stream",
     "text": [
      "Exception in thread Chanel #1:\n",
      "Traceback (most recent call last):\n",
      "  File \"C:\\ProgramData\\Anaconda3\\lib\\threading.py\", line 973, in _bootstrap_inner\n",
      "    self.run()\n",
      "  File \"C:\\Users\\preaw\\AppData\\Local\\Temp\\ipykernel_35816\\1025586392.py\", line 18, in run\n",
      "  File \"C:\\Users\\preaw\\AppData\\Local\\Temp\\ipykernel_35816\\986413862.py\", line 19, in countdown\n",
      "  File \"C:\\Users\\preaw\\AppData\\Local\\Temp\\ipykernel_35816\\1064178219.py\", line 2, in SetWidget\n",
      "  File \"C:\\Users\\preaw\\AppData\\Local\\Temp\\ipykernel_35816\\2038574618.py\", line 2, in set_html\n",
      "  File \"C:\\ProgramData\\Anaconda3\\lib\\tkinter\\__init__.py\", line 1652, in cget\n",
      "    return self.tk.call(self._w, 'cget', '-' + key)\n",
      "RuntimeError: main thread is not in main loop\n"
     ]
    }
   ],
   "source": [
    "if __name__ == '__main__':\n",
    "    \n",
    "    alicia_project()\n",
    "    print('Exiting Program')\n"
   ]
  },
  {
   "cell_type": "markdown",
   "id": "166d553e",
   "metadata": {},
   "source": [
    "## References"
   ]
  },
  {
   "cell_type": "markdown",
   "id": "6ceb7cf4",
   "metadata": {},
   "source": [
    "* PySimpleGUI: https://www.pysimplegui.org/en/latest/cookbook/\n",
    "* Countdown: https://stackoverflow.com/questions/47558622/how-do-i-make-a-count-down-timer-to-run-alongside-my-game-in-python\n",
    "* Multithread Example: https://www.darkartistry.com/how-to-create-a-pysimplegui-program/"
   ]
  },
  {
   "cell_type": "code",
   "execution_count": null,
   "id": "441f23d3",
   "metadata": {},
   "outputs": [],
   "source": []
  }
 ],
 "metadata": {
  "kernelspec": {
   "display_name": "Python 3 (ipykernel)",
   "language": "python",
   "name": "python3"
  },
  "language_info": {
   "codemirror_mode": {
    "name": "ipython",
    "version": 3
   },
   "file_extension": ".py",
   "mimetype": "text/x-python",
   "name": "python",
   "nbconvert_exporter": "python",
   "pygments_lexer": "ipython3",
   "version": "3.9.12"
  }
 },
 "nbformat": 4,
 "nbformat_minor": 5
}
