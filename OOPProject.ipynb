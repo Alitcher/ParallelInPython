{
 "cells": [
  {
   "cell_type": "markdown",
   "id": "98cc26c4",
   "metadata": {},
   "source": [
    "# OOP and Basic Algorithms Project"
   ]
  },
  {
   "cell_type": "code",
   "execution_count": 131,
   "id": "f34bdff8",
   "metadata": {},
   "outputs": [],
   "source": [
    "from abc import ABCMeta, abstractmethod\n",
    "import random"
   ]
  },
  {
   "cell_type": "markdown",
   "id": "05b11a65",
   "metadata": {},
   "source": [
    "### Let's prepare classes and dataset"
   ]
  },
  {
   "cell_type": "code",
   "execution_count": 132,
   "id": "76ce468a",
   "metadata": {},
   "outputs": [],
   "source": [
    "AccDataset = [[\"Panna\",11076, 4200],[\"Finno\",12434, 400],[\"Ulgric\",12454, 450],[\"Urjo\",17754, 4450],[\"Nomina\",22454, 4850],[\"Amina\",10051, 1150]]"
   ]
  },
  {
   "cell_type": "code",
   "execution_count": 133,
   "id": "4d532dab",
   "metadata": {},
   "outputs": [],
   "source": [
    "class BaseBank(metaclass = ABCMeta):\n",
    "    @abstractmethod\n",
    "    def SetData(self, name):\n",
    "        return 0\n",
    "    \n",
    "    @abstractmethod\n",
    "    def AddClient(self, name,id):\n",
    "        return 0\n",
    "    \n",
    "    @abstractmethod\n",
    "    def DeleteClient(self, name,id):\n",
    "        return 0"
   ]
  },
  {
   "cell_type": "code",
   "execution_count": 145,
   "id": "e0b1230f",
   "metadata": {},
   "outputs": [],
   "source": [
    "class Bank(BaseBank):\n",
    "\n",
    "    def __init__(self, name, isDict):\n",
    "        self.SetData(name)\n",
    "        self.usingDict = isDict\n",
    "        \n",
    "    def SetData(self, name):\n",
    "        self.name = name\n",
    "        self.bank_balance = 1000000\n",
    "        self.Clients = []\n",
    "        self.ClientsDict = {}\n",
    "        \n",
    "    def UpdateBankBalance(self, amount):\n",
    "        self.bank_balance = self.bank_balance + amount\n",
    "        print(f\"Now bank {self.name} has {self.bank_balance} remaining.\")\n",
    "    \n",
    "    def AddClient(self, name,id,deposit):\n",
    "        if not self.usingDict:\n",
    "            self.Clients.append(UserAccount(name,id,deposit))\n",
    "        else:\n",
    "            self.ClientsDict[id] = UserAccount(name,id,deposit)\n",
    "        \n",
    "    def DeleteClient(self, name,id,deposit):\n",
    "        if not self.usingDict:\n",
    "            self.Clients.remove(UserAccount(name,id,deposit))\n",
    "        else:\n",
    "            del self.ClientsDict[id]\n",
    "    def DisplayData(self):\n",
    "        print(f\"{self.name} is the new bank.\")\n",
    "    "
   ]
  },
  {
   "cell_type": "code",
   "execution_count": 146,
   "id": "04191f30",
   "metadata": {},
   "outputs": [],
   "source": [
    "class UserAccount():\n",
    "    def __init__(self, name, id,deposit_start):\n",
    "        self.name = name\n",
    "        self.id = id\n",
    "        self.balance = deposit_start\n",
    "        self.bankid = random.getrandbits(16)\n",
    "        \n",
    "    def Deposit(self,amount):\n",
    "        self.balance = self.balance + amount\n",
    "        self.DisplayBalance()\n",
    "        \n",
    "    def Withdraw(self, amount):\n",
    "        if self.balance - amount < 0:\n",
    "            print(f\"You can't withdraw because your balance is {self.GetBalance()}. Your request is {amount}.\")\n",
    "            return\n",
    "        self.balance = self.balance - amount\n",
    "        self.DisplayBalance()\n",
    "        \n",
    "    def GetBalance(self):\n",
    "        return self.balance\n",
    "    \n",
    "    def DisplayBalance(self):\n",
    "        print(f\"Now {self.name} has {self.balance} remaining.\")\n",
    "        \n",
    "    def DisplayData(self):\n",
    "        print(f\"username: {self.name} \")\n",
    "        print(f\"id: {self.id} \")\n",
    "        print(f\"bank no.: {self.bankid} \")\n",
    "        self.DisplayBalance()"
   ]
  },
  {
   "cell_type": "markdown",
   "id": "d1a313df",
   "metadata": {},
   "source": [
    "## List"
   ]
  },
  {
   "cell_type": "code",
   "execution_count": 147,
   "id": "54b7ab4f",
   "metadata": {},
   "outputs": [
    {
     "name": "stdout",
     "output_type": "stream",
     "text": [
      "LHV is the new bank.\n"
     ]
    }
   ],
   "source": [
    "LHV = Bank(\"LHV\", False)\n",
    "LHV.DisplayData()\n",
    "for i in range(len(AccDataset)):\n",
    "    LHV.AddClient(AccDataset[i][0],AccDataset[i][1],AccDataset[i][2])    "
   ]
  },
  {
   "cell_type": "code",
   "execution_count": 148,
   "id": "547e6757",
   "metadata": {},
   "outputs": [
    {
     "data": {
      "text/plain": [
       "11076"
      ]
     },
     "execution_count": 148,
     "metadata": {},
     "output_type": "execute_result"
    }
   ],
   "source": [
    "LHV.Clients[0].id"
   ]
  },
  {
   "cell_type": "code",
   "execution_count": 154,
   "id": "fb374342",
   "metadata": {},
   "outputs": [],
   "source": [
    "### Panna wants to withdraw some amount"
   ]
  },
  {
   "cell_type": "code",
   "execution_count": 149,
   "id": "7d26cc32",
   "metadata": {},
   "outputs": [
    {
     "name": "stdout",
     "output_type": "stream",
     "text": [
      "Now Panna has 4000 remaining.\n",
      "Now bank LHV has 999800 remaining.\n"
     ]
    }
   ],
   "source": [
    "LHV.Clients[0].Withdraw(200)\n",
    "LHV.UpdateBankBalance(-200)"
   ]
  },
  {
   "cell_type": "markdown",
   "id": "fd9ba9d6",
   "metadata": {},
   "source": [
    "## Dict"
   ]
  },
  {
   "cell_type": "code",
   "execution_count": 150,
   "id": "7e630ed2",
   "metadata": {},
   "outputs": [
    {
     "name": "stdout",
     "output_type": "stream",
     "text": [
      "Swed is the new bank.\n"
     ]
    }
   ],
   "source": [
    "SWED = Bank(\"Swed\",True)\n",
    "SWED.DisplayData()\n",
    "for i in range(len(AccDataset)):\n",
    "    SWED.AddClient(AccDataset[i][0],AccDataset[i][1],AccDataset[i][2])    "
   ]
  },
  {
   "cell_type": "code",
   "execution_count": 151,
   "id": "4e3bc9bc",
   "metadata": {},
   "outputs": [],
   "source": [
    "# SWED.Clients[1].name\n",
    "#Display Error because SWED doesn't use List to store the dataset"
   ]
  },
  {
   "cell_type": "code",
   "execution_count": 152,
   "id": "74ad18fc",
   "metadata": {},
   "outputs": [
    {
     "data": {
      "text/plain": [
       "'Ulgric'"
      ]
     },
     "execution_count": 152,
     "metadata": {},
     "output_type": "execute_result"
    }
   ],
   "source": [
    "SWED.ClientsDict[AccDataset[2][1]].name"
   ]
  },
  {
   "cell_type": "markdown",
   "id": "9344e757",
   "metadata": {},
   "source": [
    "### Panna wants to withdraw some amount"
   ]
  },
  {
   "cell_type": "code",
   "execution_count": 153,
   "id": "fb61de0b",
   "metadata": {},
   "outputs": [
    {
     "name": "stdout",
     "output_type": "stream",
     "text": [
      "Now Panna has 4000 remaining.\n",
      "Now bank Swed has 999800 remaining.\n"
     ]
    }
   ],
   "source": [
    "SWED.ClientsDict[11076].Withdraw(200)\n",
    "SWED.UpdateBankBalance(-200)"
   ]
  },
  {
   "cell_type": "markdown",
   "id": "99eb1f1b",
   "metadata": {},
   "source": [
    "## Test UserAccount class"
   ]
  },
  {
   "cell_type": "markdown",
   "id": "f697da32",
   "metadata": {},
   "source": [
    "Test deposit and withdraw efficiency"
   ]
  },
  {
   "cell_type": "code",
   "execution_count": 107,
   "id": "80bbbd91",
   "metadata": {},
   "outputs": [
    {
     "name": "stdout",
     "output_type": "stream",
     "text": [
      "username: Alicia \n",
      "id: 12589 \n",
      "bank no.: 58259 \n",
      "Now Alicia has 1200 remaining.\n"
     ]
    }
   ],
   "source": [
    "Alicia = UserAccount(\"Alicia\",12589, 1200)\n",
    "Alicia.DisplayData()"
   ]
  },
  {
   "cell_type": "code",
   "execution_count": 108,
   "id": "88160c6a",
   "metadata": {},
   "outputs": [
    {
     "name": "stdout",
     "output_type": "stream",
     "text": [
      "Now Alicia has 3700 remaining.\n"
     ]
    }
   ],
   "source": [
    "Alicia.Deposit(2500)"
   ]
  },
  {
   "cell_type": "code",
   "execution_count": 109,
   "id": "c64fa025",
   "metadata": {},
   "outputs": [
    {
     "name": "stdout",
     "output_type": "stream",
     "text": [
      "You can't withdraw because your balance is 3700. Your request is 8500.\n",
      "Now Alicia has 2200 remaining.\n"
     ]
    }
   ],
   "source": [
    "Alicia.Withdraw(8500)\n",
    "Alicia.Withdraw(1500)"
   ]
  },
  {
   "cell_type": "code",
   "execution_count": null,
   "id": "65c3d4e5",
   "metadata": {},
   "outputs": [],
   "source": []
  }
 ],
 "metadata": {
  "kernelspec": {
   "display_name": "Python 3 (ipykernel)",
   "language": "python",
   "name": "python3"
  },
  "language_info": {
   "codemirror_mode": {
    "name": "ipython",
    "version": 3
   },
   "file_extension": ".py",
   "mimetype": "text/x-python",
   "name": "python",
   "nbconvert_exporter": "python",
   "pygments_lexer": "ipython3",
   "version": "3.9.12"
  }
 },
 "nbformat": 4,
 "nbformat_minor": 5
}
